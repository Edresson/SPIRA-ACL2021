{
 "cells": [
  {
   "cell_type": "markdown",
   "metadata": {
    "slideshow": {
     "slide_type": "slide"
    }
   },
   "source": [
    "# Report"
   ]
  },
  {
   "cell_type": "markdown",
   "metadata": {},
   "source": [
    "Este notebook apresenta uma análise dos modelos treinados."
   ]
  },
  {
   "cell_type": "markdown",
   "metadata": {},
   "source": [
    "*Algumas opções podem ser configuradas abaixo.*"
   ]
  },
  {
   "attachments": {
    "6afb3fe7-fabb-42b4-bc75-2648871925dc.png": {
     "image/png": "[encoded data removed]"
    }
   },
   "cell_type": "markdown",
   "metadata": {},
   "source": [
    "## Algumas considerações:\n",
    "\n",
    "### Matriz de confusão\n",
    "\n",
    "É uma matriz quadrada que relaciona os acertos e erros do modelo. Útil para analisar os falsos negativos e falsos positivos obtidos após a predição.\n",
    "\n",
    "![image.png](attachment:6afb3fe7-fabb-42b4-bc75-2648871925dc.png)\n",
    "\n",
    "### Conjuntos de treinamento X validação X teste\n",
    "\n",
    "São três conjuntos distintos de dados utilizados no processo de treinamento, tunagem e teste do modelo.\n",
    "\n",
    "O conjunto de **treinamento** é utilizado durante a fase de treinamento, isto é, é o conjunto de dados utilizados para alimentar o modelo durante o processo de otimização.\n",
    "\n",
    "Normalmente esse conjunto representa a maior parcela dos dados.\n",
    "\n",
    "Não é recomendado testar ou validar o modelo com esse conjunto, porque o modelo facilmente memoriza as instâncias (os dados) desse conjunto. Por isso neste notebook não testamos o modelo com os dados de treinamento.\n",
    "\n",
    "O conjunto de **validação** é utilizado para tunar o modelo e verificar se o o modelo proposto está \"aprendendo\". Esse conjunto evita um viés na tunagem do modelo e é recomendado tanto para encontrar valores ótimos de hiperparâmetros quanto para selecionar o melhor modelo obtido durante a fase de treinamento.\n",
    "\n",
    "O conjunto de **teste** é o conjunto que deve ser utilizado apenas ao final do treinamento, para verificar se o modelo realmente aprendeu as características esperadas. É um conjunto sensível, e deve ser o mais fiel possível dos dados reais. Esse é o conjunto que o Daniel analisou e selecionou, separando áudios que poderiam estar enviesados.\n",
    "\n",
    "---\n",
    "\n",
    "Neste notebook nós testamos os modelos em ambos os conjuntos de validação e teste utilizando áudios sem adição de ruído. É esperado que o resultado no conjunto de validação seja superior."
   ]
  },
  {
   "cell_type": "markdown",
   "metadata": {},
   "source": [
    "## Imports"
   ]
  },
  {
   "cell_type": "code",
   "execution_count": null,
   "metadata": {},
   "outputs": [],
   "source": [
    "from report_wrapper import run_test"
   ]
  },
  {
   "cell_type": "markdown",
   "metadata": {},
   "source": [
    "## Configurações"
   ]
  },
  {
   "cell_type": "code",
   "execution_count": null,
   "metadata": {},
   "outputs": [],
   "source": [
    "# SHOW_EACH_SAMPLE: Se True irá mostrar informações sobre cada áudio predito incorretamente,\n",
    "# como o áudio, a representação em espectrograma, o caminho do arquivo e a classe real / predita.\n",
    "SHOW_EACH_SAMPLE   = True\n",
    "# SHOW_EACH_SAMPLE: Se True irá mostrar gráficos sobre os dados preditos incorretamente\n",
    "SHOW_INFO          = True"
   ]
  },
  {
   "cell_type": "code",
   "execution_count": null,
   "metadata": {},
   "outputs": [],
   "source": [
    "DATA_ROOT_DIR      = \"../SPIRA_Dataset_V1/\"\n",
    "\n",
    "BATCH_SIZE         = 1\n",
    "NUM_WORKERS        = 2\n",
    "NO_INSERT_NOISE    = True\n",
    "VERBOSE            = 1\n",
    "\n",
    "# Outras configurações como CHECKPOINT_PATH, CONFIG_PATH e CSV_DATA devem ser configurados\n",
    "# em cada caso. \n",
    "# Por exemplo, CSV_DATA pode ser \"../SPIRA_Dataset_V1/metadata_eval.csv\" OU \"../SPIRA_Dataset_V1/metadata_test.csv\",\n",
    "# para testar o modelo com os conjuntos de validação OU de teste."
   ]
  },
  {
   "cell_type": "markdown",
   "metadata": {},
   "source": [
    "## Relatório"
   ]
  },
  {
   "cell_type": "code",
   "execution_count": null,
   "metadata": {},
   "outputs": [],
   "source": [
    "def report(checkpoint_path, config_path, csv_data):\n",
    "    run_test(config_path=config_path,\n",
    "             csv_data=csv_data,\n",
    "             checkpoint_path=checkpoint_path,\n",
    "             batch_size=BATCH_SIZE,\n",
    "             data_root_dir=DATA_ROOT_DIR,\n",
    "             num_workers=NUM_WORKERS,\n",
    "             no_insert_noise=NO_INSERT_NOISE,\n",
    "             cuda=True,\n",
    "             show_each_sample=True,\n",
    "             show_info=True,\n",
    "             verbose=VERBOSE)"
   ]
  },
  {
   "cell_type": "markdown",
   "metadata": {
    "slideshow": {
     "slide_type": "slide"
    }
   },
   "source": [
    "## SPIRAConvV1-75"
   ]
  },
  {
   "cell_type": "code",
   "execution_count": null,
   "metadata": {},
   "outputs": [],
   "source": [
    "CHECKPOINT_PATH    = \"checkpoints/spiraconv_v1_75/best_checkpoint.pt\"\n",
    "CONFIG_PATH        = \"checkpoints/spiraconv_v1_75/config.json\""
   ]
  },
  {
   "cell_type": "markdown",
   "metadata": {
    "slideshow": {
     "slide_type": "subslide"
    }
   },
   "source": [
    "### Validation - Without noise"
   ]
  },
  {
   "cell_type": "code",
   "execution_count": null,
   "metadata": {
    "slideshow": {
     "slide_type": "skip"
    }
   },
   "outputs": [],
   "source": [
    "CSV_DATA = \"../SPIRA_Dataset_V1/metadata_eval.csv\"\n",
    "report(CHECKPOINT_PATH, CONFIG_PATH, CSV_DATA)"
   ]
  },
  {
   "cell_type": "markdown",
   "metadata": {
    "slideshow": {
     "slide_type": "subslide"
    }
   },
   "source": [
    "### Test - Without noise"
   ]
  },
  {
   "cell_type": "code",
   "execution_count": null,
   "metadata": {
    "slideshow": {
     "slide_type": "skip"
    }
   },
   "outputs": [],
   "source": [
    "CSV_DATA = \"../SPIRA_Dataset_V1/metadata_test.csv\"\n",
    "report(CHECKPOINT_PATH, CONFIG_PATH, CSV_DATA)"
   ]
  },
  {
   "cell_type": "markdown",
   "metadata": {
    "slideshow": {
     "slide_type": "slide"
    }
   },
   "source": [
    "## SPIRAConvV2-78"
   ]
  },
  {
   "cell_type": "code",
   "execution_count": null,
   "metadata": {
    "slideshow": {
     "slide_type": "slide"
    }
   },
   "outputs": [],
   "source": [
    "CHECKPOINT_PATH    = \"checkpoints/spiraconv_v2_78/best_checkpoint.pt\"\n",
    "CONFIG_PATH        = \"checkpoints/spiraconv_v2_78/config.json\"## SPIRAConvV1-MFCC"
   ]
  },
  {
   "cell_type": "markdown",
   "metadata": {
    "slideshow": {
     "slide_type": "subslide"
    }
   },
   "source": [
    "### Validation - Without noise"
   ]
  },
  {
   "cell_type": "code",
   "execution_count": null,
   "metadata": {
    "slideshow": {
     "slide_type": "skip"
    }
   },
   "outputs": [],
   "source": [
    "CSV_DATA = \"../SPIRA_Dataset_V1/metadata_eval.csv\"\n",
    "report(CHECKPOINT_PATH, CONFIG_PATH, CSV_DATA)"
   ]
  },
  {
   "cell_type": "markdown",
   "metadata": {
    "slideshow": {
     "slide_type": "subslide"
    }
   },
   "source": [
    "### Test - Without noise"
   ]
  },
  {
   "cell_type": "code",
   "execution_count": null,
   "metadata": {
    "slideshow": {
     "slide_type": "skip"
    }
   },
   "outputs": [],
   "source": [
    "CSV_DATA = \"../SPIRA_Dataset_V1/metadata_test.csv\"\n",
    "report(CHECKPOINT_PATH, CONFIG_PATH, CSV_DATA)"
   ]
  },
  {
   "cell_type": "markdown",
   "metadata": {},
   "source": [
    "## SPIRAConvV1-73"
   ]
  },
  {
   "cell_type": "code",
   "execution_count": null,
   "metadata": {
    "slideshow": {
     "slide_type": "slide"
    }
   },
   "outputs": [],
   "source": [
    "CHECKPOINT_PATH    = \"checkpoints/spiraconv_v1_73/best_checkpoint.pt\"\n",
    "CONFIG_PATH        = \"checkpoints/spiraconv_v1_73/config.json\"## SPIRAConvV1-MFCC"
   ]
  },
  {
   "cell_type": "markdown",
   "metadata": {
    "slideshow": {
     "slide_type": "subslide"
    }
   },
   "source": [
    "### Validation - Without noise"
   ]
  },
  {
   "cell_type": "code",
   "execution_count": null,
   "metadata": {
    "slideshow": {
     "slide_type": "skip"
    }
   },
   "outputs": [],
   "source": [
    "CSV_DATA = \"../SPIRA_Dataset_V1/metadata_eval.csv\"\n",
    "report(CHECKPOINT_PATH, CONFIG_PATH, CSV_DATA)"
   ]
  },
  {
   "cell_type": "markdown",
   "metadata": {
    "slideshow": {
     "slide_type": "subslide"
    }
   },
   "source": [
    "### Test - Without noise"
   ]
  },
  {
   "cell_type": "code",
   "execution_count": null,
   "metadata": {
    "slideshow": {
     "slide_type": "skip"
    }
   },
   "outputs": [],
   "source": [
    "CSV_DATA = \"../SPIRA_Dataset_V1/metadata_test.csv\"\n",
    "report(CHECKPOINT_PATH, CONFIG_PATH, CSV_DATA)"
   ]
  }
 ],
 "metadata": {
  "kernelspec": {
   "display_name": "Python 3",
   "language": "python",
   "name": "python3"
  },
  "language_info": {
   "codemirror_mode": {
    "name": "ipython",
    "version": 3
   },
   "file_extension": ".py",
   "mimetype": "text/x-python",
   "name": "python",
   "nbconvert_exporter": "python",
   "pygments_lexer": "ipython3",
   "version": "3.8.3"
  }
 },
 "nbformat": 4,
 "nbformat_minor": 4
}
